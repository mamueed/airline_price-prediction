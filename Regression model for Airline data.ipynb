{
 "cells": [
  {
   "cell_type": "code",
   "execution_count": 6,
   "metadata": {},
   "outputs": [],
   "source": [
    "# First import necessary library\n",
    "import numpy as np # linear algebra\n",
    "import pandas as pd # data processing, CSV file I/O (e.g. pd.read_csv)\n",
    "get_ipython().run_line_magic('matplotlib', 'inline')\n",
    "import matplotlib.pyplot as plt  # Matlab-style plotting\n",
    "import seaborn as sns\n",
    "color = sns.color_palette()\n",
    "sns.set_style('darkgrid')\n",
    "from scipy import stats\n",
    "from scipy.stats import norm, skew\n",
    "from sklearn.linear_model import LinearRegression\n",
    "from sklearn.model_selection import KFold, cross_val_score,train_test_split\n",
    "from sklearn.model_selection import cross_val_predict\n",
    "from sklearn.preprocessing import RobustScaler\n",
    "from sklearn.pipeline import Pipeline #make_pipeline\n",
    "from sklearn.linear_model import RidgeCV\n",
    "from sklearn.linear_model import LassoCV\n",
    "from sklearn.linear_model import ElasticNetCV\n",
    "from sklearn import svm\n",
    "from lightgbm import LGBMRegressor\n"
   ]
  },
  {
   "cell_type": "code",
   "execution_count": 7,
   "metadata": {},
   "outputs": [],
   "source": [
    "# # Dataset details\n",
    "Airline_df =  pd.read_csv('airline.csv')"
   ]
  },
  {
   "cell_type": "code",
   "execution_count": 8,
   "metadata": {},
   "outputs": [
    {
     "data": {
      "text/plain": [
       "SL. No.           int64\n",
       "Class             int64\n",
       "Age             float64\n",
       "time              int64\n",
       "adv_bookdays      int64\n",
       "weekday           int64\n",
       "month             int64\n",
       "monthday          int64\n",
       "demand            int64\n",
       "from_ind          int64\n",
       "to_ind            int64\n",
       "Fare            float64\n",
       "dtype: object"
      ]
     },
     "execution_count": 8,
     "metadata": {},
     "output_type": "execute_result"
    }
   ],
   "source": [
    "# Datatype details\n",
    "Airline_df.dtypes"
   ]
  },
  {
   "cell_type": "code",
   "execution_count": 9,
   "metadata": {},
   "outputs": [
    {
     "data": {
      "text/html": [
       "<div>\n",
       "<style scoped>\n",
       "    .dataframe tbody tr th:only-of-type {\n",
       "        vertical-align: middle;\n",
       "    }\n",
       "\n",
       "    .dataframe tbody tr th {\n",
       "        vertical-align: top;\n",
       "    }\n",
       "\n",
       "    .dataframe thead th {\n",
       "        text-align: right;\n",
       "    }\n",
       "</style>\n",
       "<table border=\"1\" class=\"dataframe\">\n",
       "  <thead>\n",
       "    <tr style=\"text-align: right;\">\n",
       "      <th></th>\n",
       "      <th>SL. No.</th>\n",
       "      <th>Class</th>\n",
       "      <th>Age</th>\n",
       "      <th>time</th>\n",
       "      <th>adv_bookdays</th>\n",
       "      <th>weekday</th>\n",
       "      <th>month</th>\n",
       "      <th>monthday</th>\n",
       "      <th>demand</th>\n",
       "      <th>from_ind</th>\n",
       "      <th>to_ind</th>\n",
       "      <th>Fare</th>\n",
       "    </tr>\n",
       "  </thead>\n",
       "  <tbody>\n",
       "    <tr>\n",
       "      <th>count</th>\n",
       "      <td>4999.000000</td>\n",
       "      <td>4999.000000</td>\n",
       "      <td>4999.000000</td>\n",
       "      <td>4999.000000</td>\n",
       "      <td>4999.000000</td>\n",
       "      <td>4999.000000</td>\n",
       "      <td>4999.000000</td>\n",
       "      <td>4999.000000</td>\n",
       "      <td>4999.000000</td>\n",
       "      <td>4999.000000</td>\n",
       "      <td>4999.000000</td>\n",
       "      <td>4999.000000</td>\n",
       "    </tr>\n",
       "    <tr>\n",
       "      <th>mean</th>\n",
       "      <td>3103.027005</td>\n",
       "      <td>0.257051</td>\n",
       "      <td>48.478436</td>\n",
       "      <td>37.325465</td>\n",
       "      <td>23.414283</td>\n",
       "      <td>3.035207</td>\n",
       "      <td>4.331266</td>\n",
       "      <td>15.372474</td>\n",
       "      <td>1.267654</td>\n",
       "      <td>3.606721</td>\n",
       "      <td>3.985997</td>\n",
       "      <td>8525.626751</td>\n",
       "    </tr>\n",
       "    <tr>\n",
       "      <th>std</th>\n",
       "      <td>1816.650469</td>\n",
       "      <td>0.437052</td>\n",
       "      <td>18.635317</td>\n",
       "      <td>5.992250</td>\n",
       "      <td>15.141569</td>\n",
       "      <td>2.006582</td>\n",
       "      <td>2.817279</td>\n",
       "      <td>8.862410</td>\n",
       "      <td>0.538230</td>\n",
       "      <td>1.990615</td>\n",
       "      <td>2.043300</td>\n",
       "      <td>6521.815943</td>\n",
       "    </tr>\n",
       "    <tr>\n",
       "      <th>min</th>\n",
       "      <td>1.000000</td>\n",
       "      <td>0.000000</td>\n",
       "      <td>12.800000</td>\n",
       "      <td>24.000000</td>\n",
       "      <td>0.000000</td>\n",
       "      <td>0.000000</td>\n",
       "      <td>0.000000</td>\n",
       "      <td>1.000000</td>\n",
       "      <td>1.000000</td>\n",
       "      <td>1.000000</td>\n",
       "      <td>1.000000</td>\n",
       "      <td>1132.820000</td>\n",
       "    </tr>\n",
       "    <tr>\n",
       "      <th>25%</th>\n",
       "      <td>1507.500000</td>\n",
       "      <td>0.000000</td>\n",
       "      <td>33.900000</td>\n",
       "      <td>33.000000</td>\n",
       "      <td>12.000000</td>\n",
       "      <td>1.000000</td>\n",
       "      <td>2.000000</td>\n",
       "      <td>8.000000</td>\n",
       "      <td>1.000000</td>\n",
       "      <td>2.000000</td>\n",
       "      <td>2.000000</td>\n",
       "      <td>4359.290000</td>\n",
       "    </tr>\n",
       "    <tr>\n",
       "      <th>50%</th>\n",
       "      <td>3067.000000</td>\n",
       "      <td>0.000000</td>\n",
       "      <td>48.100000</td>\n",
       "      <td>38.000000</td>\n",
       "      <td>21.000000</td>\n",
       "      <td>3.000000</td>\n",
       "      <td>4.000000</td>\n",
       "      <td>15.000000</td>\n",
       "      <td>1.000000</td>\n",
       "      <td>3.000000</td>\n",
       "      <td>4.000000</td>\n",
       "      <td>6626.410000</td>\n",
       "    </tr>\n",
       "    <tr>\n",
       "      <th>75%</th>\n",
       "      <td>4679.500000</td>\n",
       "      <td>1.000000</td>\n",
       "      <td>64.100000</td>\n",
       "      <td>42.000000</td>\n",
       "      <td>33.000000</td>\n",
       "      <td>5.000000</td>\n",
       "      <td>7.000000</td>\n",
       "      <td>23.000000</td>\n",
       "      <td>1.000000</td>\n",
       "      <td>5.000000</td>\n",
       "      <td>6.000000</td>\n",
       "      <td>10546.235000</td>\n",
       "    </tr>\n",
       "    <tr>\n",
       "      <th>max</th>\n",
       "      <td>6234.000000</td>\n",
       "      <td>1.000000</td>\n",
       "      <td>83.700000</td>\n",
       "      <td>48.000000</td>\n",
       "      <td>95.000000</td>\n",
       "      <td>6.000000</td>\n",
       "      <td>11.000000</td>\n",
       "      <td>31.000000</td>\n",
       "      <td>5.000000</td>\n",
       "      <td>7.000000</td>\n",
       "      <td>7.000000</td>\n",
       "      <td>84141.470000</td>\n",
       "    </tr>\n",
       "  </tbody>\n",
       "</table>\n",
       "</div>"
      ],
      "text/plain": [
       "           SL. No.        Class          Age         time  adv_bookdays  \\\n",
       "count  4999.000000  4999.000000  4999.000000  4999.000000   4999.000000   \n",
       "mean   3103.027005     0.257051    48.478436    37.325465     23.414283   \n",
       "std    1816.650469     0.437052    18.635317     5.992250     15.141569   \n",
       "min       1.000000     0.000000    12.800000    24.000000      0.000000   \n",
       "25%    1507.500000     0.000000    33.900000    33.000000     12.000000   \n",
       "50%    3067.000000     0.000000    48.100000    38.000000     21.000000   \n",
       "75%    4679.500000     1.000000    64.100000    42.000000     33.000000   \n",
       "max    6234.000000     1.000000    83.700000    48.000000     95.000000   \n",
       "\n",
       "           weekday        month     monthday       demand     from_ind  \\\n",
       "count  4999.000000  4999.000000  4999.000000  4999.000000  4999.000000   \n",
       "mean      3.035207     4.331266    15.372474     1.267654     3.606721   \n",
       "std       2.006582     2.817279     8.862410     0.538230     1.990615   \n",
       "min       0.000000     0.000000     1.000000     1.000000     1.000000   \n",
       "25%       1.000000     2.000000     8.000000     1.000000     2.000000   \n",
       "50%       3.000000     4.000000    15.000000     1.000000     3.000000   \n",
       "75%       5.000000     7.000000    23.000000     1.000000     5.000000   \n",
       "max       6.000000    11.000000    31.000000     5.000000     7.000000   \n",
       "\n",
       "            to_ind          Fare  \n",
       "count  4999.000000   4999.000000  \n",
       "mean      3.985997   8525.626751  \n",
       "std       2.043300   6521.815943  \n",
       "min       1.000000   1132.820000  \n",
       "25%       2.000000   4359.290000  \n",
       "50%       4.000000   6626.410000  \n",
       "75%       6.000000  10546.235000  \n",
       "max       7.000000  84141.470000  "
      ]
     },
     "execution_count": 9,
     "metadata": {},
     "output_type": "execute_result"
    }
   ],
   "source": [
    "#  Statistical description of Data. # Notice that in SL.No count is 6000 but the max is showing as 7500. This could be because \n",
    "# some rows could have been completely removed.\n",
    "Airline_df.describe()"
   ]
  },
  {
   "cell_type": "code",
   "execution_count": 10,
   "metadata": {},
   "outputs": [],
   "source": [
    "#Splitting of Data into training and testing subset abd creating a \"label\" Column, in this case 'Fare'\n",
    "df_train = Airline_df[0:5999]\n",
    "df_test = Airline_df[5999:]\n",
    "df_test = df_test.drop(['Fare'], axis =1)"
   ]
  },
  {
   "cell_type": "code",
   "execution_count": 11,
   "metadata": {},
   "outputs": [],
   "source": [
    "X = df_train.drop(['Fare'], axis=1)\n",
    "y = df_train.Fare"
   ]
  },
  {
   "cell_type": "code",
   "execution_count": 12,
   "metadata": {},
   "outputs": [],
   "source": [
    "X_train, X_test, y_train, y_test = train_test_split(X, y, test_size=0.3, random_state=123)"
   ]
  },
  {
   "cell_type": "markdown",
   "metadata": {},
   "source": [
    "Linear regression"
   ]
  },
  {
   "cell_type": "code",
   "execution_count": 13,
   "metadata": {},
   "outputs": [],
   "source": [
    "#Build our model method\n",
    "lm = LinearRegression()"
   ]
  },
  {
   "cell_type": "code",
   "execution_count": 14,
   "metadata": {},
   "outputs": [],
   "source": [
    "#Build our cross validation method. Cross Validation ensures that sample data is taken is taken from randomly]\n",
    "# selected subsample, which avoids bias problems\n",
    "kfolds = KFold(n_splits=50,shuffle=True, random_state=100)"
   ]
  },
  {
   "cell_type": "code",
   "execution_count": 15,
   "metadata": {},
   "outputs": [],
   "source": [
    "# Define Root means square error value, which is used to measure accuracy of model.\n",
    "def cv_rmse(model):\n",
    "    rmse = np.sqrt(-cross_val_score(model, X, y, \n",
    "                                   scoring=\"neg_mean_squared_error\", \n",
    "                                   cv = kfolds))\n",
    "    return(rmse)"
   ]
  },
  {
   "cell_type": "code",
   "execution_count": 16,
   "metadata": {},
   "outputs": [
    {
     "name": "stdout",
     "output_type": "stream",
     "text": [
      "LinearRegression(copy_X=True, fit_intercept=True, n_jobs=None, normalize=False)\n"
     ]
    },
    {
     "data": {
      "text/plain": [
       "4770.384513700063"
      ]
     },
     "execution_count": 16,
     "metadata": {},
     "output_type": "execute_result"
    }
   ],
   "source": [
    "# Pipeline is a tool in python to more than one function at time to make computation easier and elegant\n",
    "# Here we are pipelining two function a \"Scaler\" and Linear regression. RobustScaler Scale features using statistics\n",
    "#that are robust to outliers.Root means Square Error is one of the indicator of accuracy of Model\n",
    "\n",
    "pipeline1 = Pipeline(steps=[('RobustScaler',RobustScaler()), ('lm',lm) ])\n",
    "benchmark_model = pipeline1.fit(X=X_train,y = y_train)\n",
    "linear_model = pipeline1.steps[1][1]\n",
    "print(linear_model)\n",
    "cv_rmse(benchmark_model).mean()\n"
   ]
  },
  {
   "cell_type": "markdown",
   "metadata": {},
   "source": [
    "Ridge Regression"
   ]
  },
  {
   "cell_type": "code",
   "execution_count": 17,
   "metadata": {},
   "outputs": [],
   "source": [
    "# Ridge regression is a way to create a parsimonious model when the number of predictor variables ( independant variables)\n",
    "#in a set exceeds the number of observations, or when a data set has multicollinearity (correlations between predictor variables)\n",
    "# Ridge regression is a higher order regression which performs regularization ( compensates for bias in Data)\n",
    "# Bias is a case when a model does too well in training data but not in testing data. Penalty for bias is of \"square\" order\n",
    "from sklearn.linear_model import RidgeCV"
   ]
  },
  {
   "cell_type": "code",
   "execution_count": 18,
   "metadata": {},
   "outputs": [],
   "source": [
    "# Define a fucntion which will select various optization parameter Alpha, fit model with that Alpha and\n",
    "# calculate RMSE according to that Alpha\n",
    "def ridge_selector(k):\n",
    "   \n",
    "    pipeline2 = Pipeline(steps=[('RobustScaler',RobustScaler()), ('Ridgecv',RidgeCV(alphas = [k],cv=kfolds)) ])\n",
    "    ridge_model = pipeline2.fit(X_train,y_train)\n",
    "    ridge_rmse = cv_rmse(ridge_model).mean()\n",
    "    ridgemodel = pipeline2.steps[1][1]\n",
    "    #print(ridgemodel)\n",
    "    return(ridge_rmse)\n"
   ]
  },
  {
   "cell_type": "code",
   "execution_count": 19,
   "metadata": {},
   "outputs": [],
   "source": [
    "# Alpha adds a factor of sum of squares of coefficients in the optimization/Regularization objective. \n",
    "# It is equal to adding some weights to coeffecients in a model equiavelent to Y(hat) = alpha1*X1+aplpha2*X2+aplha3*X3..\n",
    "r_alphas = [.0001, .0003, .0005, .0007, .0009, \n",
    "          .01, 0.05, 0.1, 0.3, 1, 3, 5, 10, 15, 20, 30, 50, 60, 70, 80]\n"
   ]
  },
  {
   "cell_type": "code",
   "execution_count": 20,
   "metadata": {},
   "outputs": [],
   "source": [
    "# Score accuracy the model according various Alphas\n",
    "ridge_scores = []\n",
    "for alpha in r_alphas:\n",
    "    score = ridge_selector(alpha)\n",
    "    ridge_scores.append(score)"
   ]
  },
  {
   "cell_type": "code",
   "execution_count": 21,
   "metadata": {},
   "outputs": [
    {
     "data": {
      "text/plain": [
       "Text(0,0.5,'score')"
      ]
     },
     "execution_count": 21,
     "metadata": {},
     "output_type": "execute_result"
    },
    {
     "data": {
      "image/png": "[encoded data removed]",
      "text/plain": [
       "<Figure size 432x288 with 1 Axes>"
      ]
     },
     "metadata": {},
     "output_type": "display_data"
    }
   ],
   "source": [
    "# Plot the scores (accuracy) of Ridge Regeression. Notice that as value of Alpha increases the accuracy of model(RMSE) first dips\n",
    "# and then increases\n",
    "plt.plot(r_alphas, ridge_scores, label='Ridge')\n",
    "plt.legend('center')\n",
    "plt.xlabel('alpha')\n",
    "plt.ylabel('score')"
   ]
  },
  {
   "cell_type": "code",
   "execution_count": 22,
   "metadata": {},
   "outputs": [
    {
     "data": {
      "text/html": [
       "<div>\n",
       "<style scoped>\n",
       "    .dataframe tbody tr th:only-of-type {\n",
       "        vertical-align: middle;\n",
       "    }\n",
       "\n",
       "    .dataframe tbody tr th {\n",
       "        vertical-align: top;\n",
       "    }\n",
       "\n",
       "    .dataframe thead th {\n",
       "        text-align: right;\n",
       "    }\n",
       "</style>\n",
       "<table border=\"1\" class=\"dataframe\">\n",
       "  <thead>\n",
       "    <tr style=\"text-align: right;\">\n",
       "      <th></th>\n",
       "      <th>RMSE</th>\n",
       "    </tr>\n",
       "  </thead>\n",
       "  <tbody>\n",
       "    <tr>\n",
       "      <th>0.0001</th>\n",
       "      <td>4770.384507</td>\n",
       "    </tr>\n",
       "    <tr>\n",
       "      <th>0.0003</th>\n",
       "      <td>4770.384494</td>\n",
       "    </tr>\n",
       "    <tr>\n",
       "      <th>0.0005</th>\n",
       "      <td>4770.384481</td>\n",
       "    </tr>\n",
       "    <tr>\n",
       "      <th>0.0007</th>\n",
       "      <td>4770.384468</td>\n",
       "    </tr>\n",
       "    <tr>\n",
       "      <th>0.0009</th>\n",
       "      <td>4770.384455</td>\n",
       "    </tr>\n",
       "    <tr>\n",
       "      <th>0.0100</th>\n",
       "      <td>4770.383856</td>\n",
       "    </tr>\n",
       "    <tr>\n",
       "      <th>0.0500</th>\n",
       "      <td>4770.381231</td>\n",
       "    </tr>\n",
       "    <tr>\n",
       "      <th>0.1000</th>\n",
       "      <td>4770.377959</td>\n",
       "    </tr>\n",
       "    <tr>\n",
       "      <th>0.3000</th>\n",
       "      <td>4770.364978</td>\n",
       "    </tr>\n",
       "    <tr>\n",
       "      <th>1.0000</th>\n",
       "      <td>4770.320905</td>\n",
       "    </tr>\n",
       "    <tr>\n",
       "      <th>3.0000</th>\n",
       "      <td>4770.206552</td>\n",
       "    </tr>\n",
       "    <tr>\n",
       "      <th>5.0000</th>\n",
       "      <td>4770.109172</td>\n",
       "    </tr>\n",
       "    <tr>\n",
       "      <th>10.0000</th>\n",
       "      <td>4769.938595</td>\n",
       "    </tr>\n",
       "    <tr>\n",
       "      <th>15.0000</th>\n",
       "      <td>4769.869540</td>\n",
       "    </tr>\n",
       "    <tr>\n",
       "      <th>20.0000</th>\n",
       "      <td>4769.898862</td>\n",
       "    </tr>\n",
       "    <tr>\n",
       "      <th>30.0000</th>\n",
       "      <td>4770.240513</td>\n",
       "    </tr>\n",
       "    <tr>\n",
       "      <th>50.0000</th>\n",
       "      <td>4771.975884</td>\n",
       "    </tr>\n",
       "    <tr>\n",
       "      <th>60.0000</th>\n",
       "      <td>4773.326868</td>\n",
       "    </tr>\n",
       "    <tr>\n",
       "      <th>70.0000</th>\n",
       "      <td>4774.973604</td>\n",
       "    </tr>\n",
       "    <tr>\n",
       "      <th>80.0000</th>\n",
       "      <td>4776.897682</td>\n",
       "    </tr>\n",
       "  </tbody>\n",
       "</table>\n",
       "</div>"
      ],
      "text/plain": [
       "                RMSE\n",
       "0.0001   4770.384507\n",
       "0.0003   4770.384494\n",
       "0.0005   4770.384481\n",
       "0.0007   4770.384468\n",
       "0.0009   4770.384455\n",
       "0.0100   4770.383856\n",
       "0.0500   4770.381231\n",
       "0.1000   4770.377959\n",
       "0.3000   4770.364978\n",
       "1.0000   4770.320905\n",
       "3.0000   4770.206552\n",
       "5.0000   4770.109172\n",
       "10.0000  4769.938595\n",
       "15.0000  4769.869540\n",
       "20.0000  4769.898862\n",
       "30.0000  4770.240513\n",
       "50.0000  4771.975884\n",
       "60.0000  4773.326868\n",
       "70.0000  4774.973604\n",
       "80.0000  4776.897682"
      ]
     },
     "execution_count": 22,
     "metadata": {},
     "output_type": "execute_result"
    }
   ],
   "source": [
    "# Tabulate the scores of Ridge Regression\n",
    "ridge_score_table = pd.DataFrame(ridge_scores, r_alphas, columns=['RMSE'])\n",
    "ridge_score_table"
   ]
  },
  {
   "cell_type": "code",
   "execution_count": 23,
   "metadata": {},
   "outputs": [
    {
     "data": {
      "text/plain": [
       "4769.868096562193"
      ]
     },
     "execution_count": 23,
     "metadata": {},
     "output_type": "execute_result"
    }
   ],
   "source": [
    "# Now for the same model, choose a different set of alphas and fit the model again\n",
    "alphas_alt = [14.5, 14.6, 14.7, 14.8, 14.9, 15, 15.1, 15.2, 15.3, 15.4, 15.5]\n",
    "\n",
    "pipeline3 = Pipeline(steps=[('RobustScaler',RobustScaler()), ('Ridgecv',RidgeCV(alphas = alphas_alt,cv=kfolds)) ])\n",
    "ridge_model2 = pipeline3.fit(X_train,y_train)\n",
    "ridgemodel2 = pipeline3.steps[1][1] # pulls out the coefficients out of the fitted model\n",
    "cv_rmse(ridge_model2).mean() # Calculate the average of all RMSEs"
   ]
  },
  {
   "cell_type": "markdown",
   "metadata": {},
   "source": [
    "Lasso Regression"
   ]
  },
  {
   "cell_type": "code",
   "execution_count": 24,
   "metadata": {},
   "outputs": [],
   "source": [
    "# Lasso regression (Least Absolute Shrinkage and Selection Operator).Performs L1 regularization, i.e. adds penalty\n",
    "#equivalent to absolute value of the magnitude of coefficients\n",
    "alphas = [0.00005, 0.0001, 0.0003, 0.0005, 0.0007, \n",
    "          0.0009, 0.01]\n",
    "alphas2 = [0.00005, 0.0001, 0.0002, 0.0003, 0.0004, 0.0005,\n",
    "           0.0006, 0.0007, 0.0008]\n"
   ]
  },
  {
   "cell_type": "code",
   "execution_count": 25,
   "metadata": {},
   "outputs": [],
   "source": [
    "pipeline4 = Pipeline(steps=[('RobustScaler',RobustScaler()), ('Ridgecv',LassoCV(max_iter=1e7,alphas = alphas2,random_state = 42)) ])\n",
    "lasso_model2 = pipeline4.fit(X_train,y_train)\n",
    "lassomodel2 = pipeline4.steps[1][1]"
   ]
  },
  {
   "cell_type": "code",
   "execution_count": 26,
   "metadata": {},
   "outputs": [],
   "source": [
    "scores = pipeline4.steps[1][1].mse_path_\n"
   ]
  },
  {
   "cell_type": "code",
   "execution_count": 27,
   "metadata": {},
   "outputs": [
    {
     "data": {
      "image/png": "[encoded data removed]",
      "text/plain": [
       "<Figure size 432x288 with 1 Axes>"
      ]
     },
     "metadata": {},
     "output_type": "display_data"
    }
   ],
   "source": [
    "plt.plot(alphas2, scores, label='Lasso')\n",
    "plt.legend(loc='center')\n",
    "plt.xlabel('alpha')\n",
    "plt.ylabel('RMSE')\n",
    "plt.tight_layout()\n",
    "plt.show()"
   ]
  },
  {
   "cell_type": "code",
   "execution_count": 28,
   "metadata": {},
   "outputs": [
    {
     "data": {
      "text/plain": [
       "4770.384447742687"
      ]
     },
     "execution_count": 28,
     "metadata": {},
     "output_type": "execute_result"
    }
   ],
   "source": [
    "# Calculate the accuracy measure of Lasso Model\n",
    "cv_rmse(lasso_model2).mean()"
   ]
  },
  {
   "cell_type": "markdown",
   "metadata": {},
   "source": [
    "Elastic Net Regression"
   ]
  },
  {
   "cell_type": "code",
   "execution_count": 30,
   "metadata": {},
   "outputs": [
    {
     "name": "stdout",
     "output_type": "stream",
     "text": [
      "ElasticNetCV(alphas=[0.0001, 0.0002, 0.0003, 0.0004, 0.0005, 0.0006, 0.0007],\n",
      "             copy_X=True, cv=KFold(n_splits=50, random_state=100, shuffle=True),\n",
      "             eps=0.001, fit_intercept=True,\n",
      "             l1_ratio=[0.8, 0.85, 0.9, 0.95, 0.99, 1], max_iter=10000000.0,\n",
      "             n_alphas=100, n_jobs=None, normalize=False, positive=False,\n",
      "             precompute='auto', random_state=None, selection='cyclic',\n",
      "             tol=0.0001, verbose=0)\n"
     ]
    }
   ],
   "source": [
    "from sklearn.pipeline import make_pipeline\n",
    "#elastic net is a regularized regression method that linearly combines the L1 and L2 penalties of the lasso and ridge methods.\n",
    "e_alphas = [0.0001, 0.0002, 0.0003, 0.0004, 0.0005, 0.0006, 0.0007]\n",
    "e_l1ratio = [0.8, 0.85, 0.9, 0.95, 0.99, 1]\n",
    "\n",
    "elastic_cv = make_pipeline(RobustScaler(), \n",
    "                           ElasticNetCV(max_iter=1e7, alphas=e_alphas, \n",
    "                                        cv=kfolds, l1_ratio=e_l1ratio))\n",
    "\n",
    "elastic_model3 = elastic_cv.fit(X_train, y_train)\n",
    "elasticmodel = elastic_model3.steps[1][1]\n",
    "print(elasticmodel)"
   ]
  },
  {
   "cell_type": "code",
   "execution_count": 31,
   "metadata": {},
   "outputs": [
    {
     "data": {
      "text/plain": [
       "4770.340265544186"
      ]
     },
     "execution_count": 31,
     "metadata": {},
     "output_type": "execute_result"
    }
   ],
   "source": [
    "cv_rmse(elastic_model3).mean()"
   ]
  },
  {
   "cell_type": "markdown",
   "metadata": {},
   "source": [
    "XGBoost "
   ]
  },
  {
   "cell_type": "code",
   "execution_count": 33,
   "metadata": {},
   "outputs": [],
   "source": [
    "#XGBoost is an algorithm that has recently been dominating applied machine learning  for structured or tabular data. \n",
    "#XGBoost is an implementation of gradient boosted decision trees designed for speed and performance.\n",
    "from sklearn.model_selection import GridSearchCV\n",
    "from matplotlib.pylab import rcParams\n",
    "rcParams['figure.figsize'] = 12, 4\n",
    "get_ipython().run_line_magic('matplotlib', 'inline')\n",
    "import xgboost as xgb\n",
    "from xgboost import XGBRegressor"
   ]
  },
  {
   "cell_type": "code",
   "execution_count": 34,
   "metadata": {},
   "outputs": [],
   "source": [
    "xgb3 = XGBRegressor(learning_rate =0.1, n_estimators=200, max_depth=10,\n",
    "                     min_child_weight=5 ,gamma=0, subsample=0.7,max_bin=20,\n",
    "                     colsample_bytree=0.8,objective= 'reg:squarederror',\n",
    "                     nthread=4,scale_pos_weight=1,seed=27, reg_alpha=0.00006)\n",
    "\n",
    "xgb_fit = xgb3.fit(X_train, y_train)\n"
   ]
  },
  {
   "cell_type": "code",
   "execution_count": 35,
   "metadata": {},
   "outputs": [
    {
     "data": {
      "text/plain": [
       "3000.027906666564"
      ]
     },
     "execution_count": 35,
     "metadata": {},
     "output_type": "execute_result"
    }
   ],
   "source": [
    "cv_rmse(xgb_fit).mean()"
   ]
  },
  {
   "cell_type": "markdown",
   "metadata": {},
   "source": [
    "Support vector machine"
   ]
  },
  {
   "cell_type": "code",
   "execution_count": 36,
   "metadata": {},
   "outputs": [],
   "source": [
    "#Support Vector Machine(SVM, a classification algorithm) algorithm to predict a continuous variable. While other linear regression models try to minimize the error between the predicted and the actual value, \n",
    "#Support Vector Regression tries to fit the best line within a predefined or threshold error value.\n",
    "from sklearn import svm\n",
    "svr_opt = svm.SVR(C = 100000, gamma = 1e-08)\n",
    "\n",
    "svr_fit = svr_opt.fit(X_train, y_train)\n"
   ]
  },
  {
   "cell_type": "code",
   "execution_count": 37,
   "metadata": {},
   "outputs": [
    {
     "data": {
      "text/plain": [
       "6551.767445859537"
      ]
     },
     "execution_count": 37,
     "metadata": {},
     "output_type": "execute_result"
    }
   ],
   "source": [
    "cv_rmse(svr_fit).mean()"
   ]
  },
  {
   "cell_type": "markdown",
   "metadata": {},
   "source": [
    "Light GBM "
   ]
  },
  {
   "cell_type": "code",
   "execution_count": 38,
   "metadata": {},
   "outputs": [],
   "source": [
    "#LightGBM is a gradient boosting framework that uses tree based learning algorithms. \n",
    "#It is designed to be distributed and efficient with the following advantages: \n",
    "#Support of parallel and GPU learning. Capable of handling large-scale data.\n",
    "from lightgbm import LGBMRegressor\n",
    "\n",
    "lgbm_model = LGBMRegressor(objective='regression',num_leaves=31,\n",
    "                              learning_rate=0.1, n_estimators=200,\n",
    "                              max_bin = 100, bagging_fraction = 0.8,\n",
    "                              bagging_freq = 5, feature_fraction = 0.8,\n",
    "                              feature_fraction_seed=9, bagging_seed=9,\n",
    "                              min_data_in_leaf =20, min_sum_hessian_in_leaf = 11)\n",
    "lgbm_fit = lgbm_model.fit(X_train, y_train)\n"
   ]
  },
  {
   "cell_type": "code",
   "execution_count": 39,
   "metadata": {},
   "outputs": [
    {
     "data": {
      "text/plain": [
       "2753.7164886901714"
      ]
     },
     "execution_count": 39,
     "metadata": {},
     "output_type": "execute_result"
    }
   ],
   "source": [
    "cv_rmse(lgbm_fit).mean()"
   ]
  },
  {
   "cell_type": "code",
   "execution_count": 40,
   "metadata": {},
   "outputs": [],
   "source": [
    "# get feature importances from a model.Feature impirtance is an important technique in Data science, which\n",
    "# allows only important features from data to be used in a model, to avoid lot of bias and variance issues which comes up\n",
    "# later.\n",
    "import matplotlib.pyplot as plt\n",
    "def plotFeatureImportances(model):\n",
    "    #first print all features importances in descending order\n",
    "    feature_importances = pd.DataFrame(model.coef_,\n",
    "                                   index = X.columns,\n",
    "                                    columns=['importance']).sort_values('importance',ascending=False)\n",
    "    print(feature_importances)\n",
    "    # Next plot feature importances to get idea about where the curve breaks\n",
    "    # in the graph i.e. select top appropriate features\n",
    "    features = X.columns.tolist()\n",
    "    importances = model.coef_\n",
    "    indices = np.argsort(importances)\n",
    "    plt.title('Feature Importances')\n",
    "    plt.barh(range(len(indices)), importances[indices], color='b', align='center')\n",
    "    plt.yticks(range(len(indices)), [features[i] for i in indices])\n",
    "    plt.xlabel('Relative Importance')\n",
    "    plt.show()"
   ]
  },
  {
   "cell_type": "code",
   "execution_count": 41,
   "metadata": {},
   "outputs": [],
   "source": [
    "# the below function can be used to generate excel file for a given model which can then be submitted\n",
    "\n",
    "def generateFinalPredictionFile(model):\n",
    "    y_test_pred = model.predict(X_to_predict.values)\n",
    "    y_test_pred_exp = np.exp(y_test_pred)\n",
    "    print(y_test_pred_exp)\n",
    "    pd.DataFrame(y_test_pred_exp, columns = ['Price']).to_excel(\"Final_Pred.xlsx\", index = False)"
   ]
  },
  {
   "cell_type": "code",
   "execution_count": 42,
   "metadata": {},
   "outputs": [
    {
     "name": "stdout",
     "output_type": "stream",
     "text": [
      "               importance\n",
      "Class         9482.958046\n",
      "to_ind        1150.424192\n",
      "Age           1012.863231\n",
      "from_ind       834.523201\n",
      "time           166.234289\n",
      "month          115.245769\n",
      "weekday         -5.802976\n",
      "monthday      -223.451226\n",
      "demand        -535.865981\n",
      "SL. No.      -1498.696290\n",
      "adv_bookdays -2093.954528\n"
     ]
    },
    {
     "data": {
      "image/png": "[encoded data removed]",
      "text/plain": [
       "<Figure size 432x288 with 1 Axes>"
      ]
     },
     "metadata": {},
     "output_type": "display_data"
    }
   ],
   "source": [
    "plotFeatureImportances(elasticmodel)"
   ]
  },
  {
   "cell_type": "code",
   "execution_count": 43,
   "metadata": {},
   "outputs": [
    {
     "name": "stdout",
     "output_type": "stream",
     "text": [
      "               importance\n",
      "Class         9489.904086\n",
      "to_ind        1151.767358\n",
      "Age           1013.052225\n",
      "from_ind       834.927804\n",
      "time           166.272988\n",
      "month          115.459801\n",
      "weekday         -5.811217\n",
      "monthday      -223.620108\n",
      "demand        -535.879050\n",
      "SL. No.      -1499.915114\n",
      "adv_bookdays -2094.692612\n"
     ]
    },
    {
     "data": {
      "image/png": "[encoded data removed]",
      "text/plain": [
       "<Figure size 432x288 with 1 Axes>"
      ]
     },
     "metadata": {},
     "output_type": "display_data"
    }
   ],
   "source": [
    "plotFeatureImportances(linear_model)"
   ]
  },
  {
   "cell_type": "code",
   "execution_count": 44,
   "metadata": {},
   "outputs": [
    {
     "name": "stdout",
     "output_type": "stream",
     "text": [
      "               importance\n",
      "Class         9275.050507\n",
      "to_ind        1110.687894\n",
      "Age           1007.050518\n",
      "from_ind       822.428468\n",
      "time           165.077088\n",
      "month          108.942394\n",
      "weekday         -5.619926\n",
      "monthday      -218.428078\n",
      "demand        -535.295891\n",
      "SL. No.      -1462.479053\n",
      "adv_bookdays -2071.654763\n"
     ]
    },
    {
     "data": {
      "image/png": "[encoded data removed]",
      "text/plain": [
       "<Figure size 432x288 with 1 Axes>"
      ]
     },
     "metadata": {},
     "output_type": "display_data"
    }
   ],
   "source": [
    "plotFeatureImportances(ridgemodel2)"
   ]
  },
  {
   "cell_type": "code",
   "execution_count": 45,
   "metadata": {},
   "outputs": [
    {
     "name": "stdout",
     "output_type": "stream",
     "text": [
      "               importance\n",
      "Class         9489.899899\n",
      "to_ind        1151.761650\n",
      "Age           1013.050083\n",
      "from_ind       834.925601\n",
      "time           166.271220\n",
      "month          115.457182\n",
      "weekday         -5.808171\n",
      "monthday      -223.617787\n",
      "demand        -535.876613\n",
      "SL. No.      -1499.910449\n",
      "adv_bookdays -2094.690381\n"
     ]
    },
    {
     "data": {
      "image/png": "[encoded data removed]",
      "text/plain": [
       "<Figure size 432x288 with 1 Axes>"
      ]
     },
     "metadata": {},
     "output_type": "display_data"
    }
   ],
   "source": [
    "plotFeatureImportances(lassomodel2)"
   ]
  },
  {
   "cell_type": "code",
   "execution_count": 46,
   "metadata": {},
   "outputs": [
    {
     "name": "stdout",
     "output_type": "stream",
     "text": [
      "count     4999.000000\n",
      "mean      8525.626751\n",
      "std       6521.815943\n",
      "min       1132.820000\n",
      "25%       4359.290000\n",
      "50%       6626.410000\n",
      "75%      10546.235000\n",
      "max      84141.470000\n",
      "Name: Fare, dtype: float64\n",
      "Skewness: 2.683233\n",
      "Kurtosis: 12.732976\n"
     ]
    },
    {
     "name": "stderr",
     "output_type": "stream",
     "text": [
      "/home/ubuntu/anaconda3/lib/python3.6/site-packages/matplotlib/axes/_axes.py:6462: UserWarning: The 'normed' kwarg is deprecated, and has been replaced by the 'density' kwarg.\n",
      "  warnings.warn(\"The 'normed' kwarg is deprecated, and has been \"\n"
     ]
    },
    {
     "data": {
      "text/plain": [
       "<matplotlib.axes._subplots.AxesSubplot at 0x7f0a3dbfab70>"
      ]
     },
     "execution_count": 46,
     "metadata": {},
     "output_type": "execute_result"
    },
    {
     "data": {
      "image/png": "[encoded data removed]",
      "text/plain": [
       "<Figure size 432x288 with 1 Axes>"
      ]
     },
     "metadata": {},
     "output_type": "display_data"
    }
   ],
   "source": [
    "#Source:- https://www.kaggle.com/pmarcelino/comprehensive-data-exploration-with-python\n",
    "#descriptive statistics summary\n",
    "import seaborn as sns\n",
    "print(Airline_df['Fare'].describe())\n",
    "#skewness and kurtosis\n",
    "print(\"Skewness: %f\" % Airline_df['Fare'].skew())\n",
    "print(\"Kurtosis: %f\" % Airline_df['Fare'].kurt())\n",
    "sns.distplot(Airline_df['Fare'])"
   ]
  },
  {
   "cell_type": "code",
   "execution_count": 47,
   "metadata": {},
   "outputs": [
    {
     "name": "stderr",
     "output_type": "stream",
     "text": [
      "/home/ubuntu/anaconda3/lib/python3.6/site-packages/matplotlib/axes/_axes.py:6462: UserWarning: The 'normed' kwarg is deprecated, and has been replaced by the 'density' kwarg.\n",
      "  warnings.warn(\"The 'normed' kwarg is deprecated, and has been \"\n"
     ]
    },
    {
     "data": {
      "image/png": "[encoded data removed]",
      "text/plain": [
       "<Figure size 432x288 with 1 Axes>"
      ]
     },
     "metadata": {},
     "output_type": "display_data"
    }
   ],
   "source": [
    "from scipy.stats import norm, skew \n",
    "sns.distplot(np.log1p(Airline_df[\"Fare\"]) , fit=norm);"
   ]
  },
  {
   "cell_type": "code",
   "execution_count": 48,
   "metadata": {},
   "outputs": [
    {
     "data": {
      "image/png": "[encoded data removed]",
      "text/plain": [
       "<Figure size 432x288 with 1 Axes>"
      ]
     },
     "metadata": {},
     "output_type": "display_data"
    }
   ],
   "source": [
    "#scatter plot Duration_minutes/Price\n",
    "var = 'Age'\n",
    "data = pd.concat([Airline_df['Fare'], df_train[var]], axis=1)\n",
    "data.plot.scatter(x=var, y='Fare', ylim=(0,90000));"
   ]
  },
  {
   "cell_type": "code",
   "execution_count": 49,
   "metadata": {},
   "outputs": [
    {
     "data": {
      "image/png": "[encoded data removed]",
      "text/plain": [
       "<Figure size 432x288 with 1 Axes>"
      ]
     },
     "metadata": {},
     "output_type": "display_data"
    }
   ],
   "source": [
    "var = 'from_ind'\n",
    "data = pd.concat([Airline_df['Fare'], Airline_df[var]], axis=1)\n",
    "data.plot.scatter(x=var, y='Fare', ylim=(0,90000));"
   ]
  },
  {
   "cell_type": "code",
   "execution_count": 50,
   "metadata": {},
   "outputs": [
    {
     "data": {
      "image/png": "[encoded data removed]",
      "text/plain": [
       "<Figure size 1296x1008 with 1 Axes>"
      ]
     },
     "metadata": {},
     "output_type": "display_data"
    }
   ],
   "source": [
    "#box plot Airline/Price\n",
    "var = 'Class'\n",
    "data = pd.concat([Airline_df['Fare'], Airline_df[var]], axis=1)\n",
    "f, ax = plt.subplots(figsize=(18, 14))\n",
    "fig = sns.boxplot(x=var, y=\"Fare\", data=data)\n",
    "plt.xticks(fontsize=10, rotation=80)\n",
    "fig.axis(ymin=0, ymax=90000);"
   ]
  },
  {
   "cell_type": "code",
   "execution_count": 51,
   "metadata": {},
   "outputs": [
    {
     "data": {
      "text/plain": [
       "Text(0.5,1,'From India')"
      ]
     },
     "execution_count": 51,
     "metadata": {},
     "output_type": "execute_result"
    },
    {
     "data": {
      "image/png": "[encoded data removed]",
      "text/plain": [
       "<Figure size 720x360 with 1 Axes>"
      ]
     },
     "metadata": {},
     "output_type": "display_data"
    }
   ],
   "source": [
    "import seaborn as sns\n",
    "import matplotlib.pyplot as plt\n",
    "from matplotlib.pyplot import figure\n",
    "sns.set(style=\"darkgrid\")\n",
    "figure(figsize=(10,5)) \n",
    "sns.barplot(x=\"from_ind\", y=\"Fare\", data=Airline_df, palette=\"Blues_d\")\n",
    "plt.title('From India')"
   ]
  },
  {
   "cell_type": "code",
   "execution_count": 52,
   "metadata": {},
   "outputs": [
    {
     "data": {
      "text/plain": [
       "(array([    0.,  2500.,  5000.,  7500., 10000., 12500., 15000., 17500.,\n",
       "        20000.]), <a list of 9 Text yticklabel objects>)"
      ]
     },
     "execution_count": 52,
     "metadata": {},
     "output_type": "execute_result"
    },
    {
     "data": {
      "image/png": "[encoded data removed]",
      "text/plain": [
       "<Figure size 720x360 with 1 Axes>"
      ]
     },
     "metadata": {},
     "output_type": "display_data"
    }
   ],
   "source": [
    "sns.set(style=\"darkgrid\")\n",
    "figure(figsize=(10,5)) \n",
    "sns.barplot(x=\"adv_bookdays\", y=\"Fare\", data=Airline_df, palette=\"Blues_d\")\n",
    "plt.title('Price variation by advanced Booking')\n",
    "plt.xticks(fontsize=10, rotation=80)\n",
    "plt.yticks(fontsize=10)"
   ]
  },
  {
   "cell_type": "code",
   "execution_count": 53,
   "metadata": {},
   "outputs": [
    {
     "data": {
      "image/png": "[encoded data removed]",
      "text/plain": [
       "<Figure size 864x648 with 2 Axes>"
      ]
     },
     "metadata": {},
     "output_type": "display_data"
    }
   ],
   "source": [
    "#correlation matrix. Plot the correlation between all indepnedant features\n",
    "corrmat = Airline_df.corr()\n",
    "f, ax = plt.subplots(figsize=(12, 9))\n",
    "sns.heatmap(corrmat, vmax=.8, square=True);"
   ]
  },
  {
   "cell_type": "markdown",
   "metadata": {},
   "source": [
    "STACKING"
   ]
  },
  {
   "cell_type": "code",
   "execution_count": 55,
   "metadata": {},
   "outputs": [
    {
     "name": "stdout",
     "output_type": "stream",
     "text": [
      "0.17.2\n"
     ]
    }
   ],
   "source": [
    "import mlxtend\n",
    "print(mlxtend.__version__)"
   ]
  },
  {
   "cell_type": "code",
   "execution_count": 56,
   "metadata": {},
   "outputs": [],
   "source": [
    "# Another way to get better accuracy from model is a technique called Ensambling. \"Getting all of them together\"\n",
    "# In this method all the models are stacked together and then again fitted with Training data and tested on\n",
    "# Testing data\n",
    "from mlxtend.regressor import StackingCVRegressor\n",
    "from sklearn.pipeline import make_pipeline\n",
    "\n",
    "#setup models\n",
    "ridge = make_pipeline(RobustScaler(), \n",
    "                      RidgeCV(alphas = alphas_alt, cv=kfolds))\n",
    "\n",
    "lasso = make_pipeline(RobustScaler(),\n",
    "                      LassoCV(max_iter=1e7, alphas = alphas2,\n",
    "                              random_state = 42, cv=kfolds))\n",
    "\n",
    "elasticnet = make_pipeline(RobustScaler(), \n",
    "                           ElasticNetCV(max_iter=1e7, alphas=e_alphas, \n",
    "                                        cv=kfolds, l1_ratio=e_l1ratio))\n",
    "\n",
    "lightgbm = make_pipeline(RobustScaler(),\n",
    "                        LGBMRegressor(objective='regression',num_leaves=31,\n",
    "                              learning_rate=0.1, n_estimators=200,\n",
    "                              max_bin = 100, bagging_fraction = 0.8,\n",
    "                              bagging_freq = 5, feature_fraction = 0.8,\n",
    "                              feature_fraction_seed=9, bagging_seed=9,\n",
    "                              min_data_in_leaf =6, min_sum_hessian_in_leaf = 11))\n",
    "\n",
    "\n",
    "xgboost = make_pipeline(RobustScaler(),\n",
    "                        XGBRegressor(learning_rate =0.1, n_estimators=200, max_depth=10,\n",
    "                     min_child_weight=5 ,gamma=0, subsample=0.7,\n",
    "                     colsample_bytree=0.8,objective= 'reg:squarederror',\n",
    "                     nthread=4,scale_pos_weight=1,seed=27, reg_alpha=0.00006))"
   ]
  },
  {
   "cell_type": "code",
   "execution_count": 57,
   "metadata": {},
   "outputs": [],
   "source": [
    "# Stack the the models together for stacked regression\n",
    "stack_gen = StackingCVRegressor(regressors=(ridge, lasso, elasticnet, \n",
    "                                            xgboost, lightgbm), \n",
    "                               meta_regressor=xgboost,\n",
    "                               use_features_in_secondary=True)"
   ]
  },
  {
   "cell_type": "code",
   "execution_count": 58,
   "metadata": {},
   "outputs": [
    {
     "name": "stdout",
     "output_type": "stream",
     "text": [
      "(3499, 11)\n",
      "(3499,)\n"
     ]
    }
   ],
   "source": [
    "#prepare dataframes for stacked models\n",
    "stackX = np.array(X_train)\n",
    "print(stackX.shape)\n",
    "stacky = np.array(y_train)\n",
    "print(stacky.shape)\n"
   ]
  },
  {
   "cell_type": "code",
   "execution_count": 59,
   "metadata": {},
   "outputs": [],
   "source": [
    "# Fit the stacked model\n",
    "stack_gen_model = stack_gen.fit(stackX, stacky)"
   ]
  },
  {
   "cell_type": "code",
   "execution_count": 60,
   "metadata": {},
   "outputs": [],
   "source": [
    "# Predict on individual models and stacked model\n",
    "em_preds = elastic_model3.predict(X_test)\n",
    "lasso_preds = lasso_model2.predict(X_test)\n",
    "ridge_preds = ridge_model2.predict(X_test)\n",
    "stack_gen_preds = stack_gen_model.predict(X_test)\n",
    "xgb_preds = xgb_fit.predict(X_test)\n",
    "#svr_preds = svr_fit.predict(X_test)\n",
    "lgbm_preds = lgbm_fit.predict(X_test)\n"
   ]
  },
  {
   "cell_type": "code",
   "execution_count": 61,
   "metadata": {},
   "outputs": [
    {
     "name": "stdout",
     "output_type": "stream",
     "text": [
      "RMSE: 2820.223340\n"
     ]
    }
   ],
   "source": [
    "# Find the accuracy measure on Stacked model\n",
    "from sklearn.metrics import mean_squared_error\n",
    "from math import sqrt\n",
    "\n",
    "rmse = np.sqrt(mean_squared_error(y_test, stack_gen_preds))\n",
    "print(\"RMSE: %f\" % (rmse))"
   ]
  },
  {
   "cell_type": "code",
   "execution_count": 62,
   "metadata": {},
   "outputs": [],
   "source": [
    "#In order to compare the accuracy of best in class model ( Extra gradient boost - XGB) and ensembled model\n",
    "# predict the fares for both model. First XGB and store the results in CSV file\n",
    "df_test_xgb = df_test[['SL. No.','Class', 'Age', 'time', 'adv_bookdays', 'weekday', 'month','monthday',\n",
    "       'demand', 'from_ind', 'to_ind']]\n",
    "preds_1 = xgb_fit.predict(df_test_xgb)\n",
    "df_test_xgb['Fare'] = preds_1\n",
    "df_test_xgb.to_csv('flight_price_5.csv')"
   ]
  },
  {
   "cell_type": "code",
   "execution_count": null,
   "metadata": {},
   "outputs": [],
   "source": [
    "# Then stacked or ensembled model and store it in a different CSV file.\n",
    "df_test_xgb = df_test[['SL. No.','Class', 'Age', 'time', 'adv_bookdays', 'weekday', 'month','monthday',\n",
    "       'demand', 'from_ind', 'to_ind']]\n",
    "preds_1 = stack_gen_model.predict(df_test_xgb)\n",
    "df_test_xgb['Fare'] = preds_1\n",
    "df_test_xgb.to_csv('flight_price_10.csv')"
   ]
  },
  {
   "cell_type": "code",
   "execution_count": null,
   "metadata": {},
   "outputs": [],
   "source": []
  }
 ],
 "metadata": {
  "kernelspec": {
   "display_name": "Python 3",
   "language": "python",
   "name": "python3"
  },
  "language_info": {
   "codemirror_mode": {
    "name": "ipython",
    "version": 3
   },
   "file_extension": ".py",
   "mimetype": "text/x-python",
   "name": "python",
   "nbconvert_exporter": "python",
   "pygments_lexer": "ipython3",
   "version": "3.6.6"
  }
 },
 "nbformat": 4,
 "nbformat_minor": 2
}
